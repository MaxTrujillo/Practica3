{
 "cells": [
  {
   "cell_type": "code",
   "execution_count": 1,
   "id": "89a07c6e-6f23-4032-b6bb-2c42bc18310e",
   "metadata": {},
   "outputs": [
    {
     "name": "stdout",
     "output_type": "stream",
     "text": [
      "Puedes desayunar jugo de manzanas o peras.\n"
     ]
    }
   ],
   "source": [
    "# Función para verificar el desayuno según las compras y el día\n",
    "def verificar_desayuno(compras, dia):\n",
    "    if dia == \"Lunes\":\n",
    "        if \"manzanas\" in compras or \"peras\" in compras:\n",
    "            return \"Puedes desayunar jugo de manzanas o peras.\"\n",
    "    elif dia == \"Martes\":\n",
    "        if \"platano\" in compras and \"fresa\" in compras and \"leche\" in compras:\n",
    "            return \"Puedes desayunar jugo de leche con plátano y fresa.\"\n",
    "    elif dia == \"Miércoles\":\n",
    "        if \"yogurt\" in compras and \"cereales\" in compras:\n",
    "            return \"Puedes desayunar yogurt con cereales.\"\n",
    "    elif dia in [\"Jueves\", \"Viernes\", \"Sábado\", \"Domingo\"]:\n",
    "        if \"papaya\" in compras:\n",
    "            return \"Puedes desayunar papaya.\"\n",
    "    return \"No hay ingredientes para el desayuno.\"\n",
    "\n",
    "# Lista de compras y día\n",
    "compras = [\"manzanas\", \"leche\", \"platano\"]\n",
    "dia = \"Lunes\"\n",
    "print(verificar_desayuno(compras, dia))"
   ]
  },
  {
   "cell_type": "code",
   "execution_count": 3,
   "id": "aa9634ff-e783-498b-ad54-a71f5e6d7f41",
   "metadata": {},
   "outputs": [
    {
     "name": "stdin",
     "output_type": "stream",
     "text": [
      "Ingrese el número 1:  1\n",
      "Ingrese el número 2:  2\n",
      "Ingrese el número 3:  2\n",
      "Ingrese el número 4:  4\n",
      "Ingrese el número 5:  5\n",
      "Ingrese el número 6:  6\n",
      "Ingrese el número 7:  7\n",
      "Ingrese el número 8:  8\n",
      "Ingrese el número 9:  9\n",
      "Ingrese el número 10:  10\n",
      "Ingrese el número 11:  10\n",
      "Ingrese el número 12:  10\n",
      "Ingrese el número 13:  13\n",
      "Ingrese el número 14:  13\n",
      "Ingrese el número 15:  12\n",
      "Ingrese el número 16:  12\n",
      "Ingrese el número 17:  15\n",
      "Ingrese el número 18:  17\n",
      "Ingrese el número 19:  19\n",
      "Ingrese el número 20:  20\n"
     ]
    },
    {
     "name": "stdout",
     "output_type": "stream",
     "text": [
      "Media: 9.75\n",
      "Mediana: 10.0\n",
      "Frecuencia: {1: 1, 2: 2, 4: 1, 5: 1, 6: 1, 7: 1, 8: 1, 9: 1, 10: 3, 12: 2, 13: 2, 15: 1, 17: 1, 19: 1, 20: 1}\n"
     ]
    }
   ],
   "source": [
    "import statistics\n",
    "\n",
    "# Función para calcular estadísticas\n",
    "def calcular_estadisticas(numeros):\n",
    "    media = statistics.mean(numeros)\n",
    "    mediana = statistics.median(numeros)\n",
    "    frecuencia = {num: numeros.count(num) for num in set(numeros)}\n",
    "    return media, mediana, frecuencia\n",
    "\n",
    "# Ingresar los 20 números\n",
    "numeros = [int(input(f\"Ingrese el número {i+1}: \")) for i in range(20)]\n",
    "media, mediana, frecuencia = calcular_estadisticas(numeros)\n",
    "\n",
    "# Mostrar resultados\n",
    "print(f\"Media: {media}\")\n",
    "print(f\"Mediana: {mediana}\")\n",
    "print(f\"Frecuencia: {frecuencia}\") "
   ]
  },
  {
   "cell_type": "code",
   "execution_count": 5,
   "id": "726a9e78-dbfd-4c35-b27a-937104518376",
   "metadata": {},
   "outputs": [
    {
     "name": "stdin",
     "output_type": "stream",
     "text": [
      "Ingrese el objeto 1:  martillo\n",
      "Ingrese el objeto 2:  picacha\n",
      "Ingrese el objeto 3:  cama\n",
      "Ingrese el objeto 4:  ventana\n",
      "Ingrese el objeto 5:  ataúd\n",
      "Ingrese el objeto 6:  carpeta\n",
      "Ingrese el objeto 7:  mouse\n",
      "Ingrese el objeto 8:  maletin\n",
      "Ingrese el objeto 9:  reloj\n",
      "Ingrese el objeto 10:  vestido\n",
      "¿Cómo quieres ordenar la lista? (ascendente/descendente):  descendente\n"
     ]
    },
    {
     "name": "stdout",
     "output_type": "stream",
     "text": [
      "Lista ordenada: ['vestido', 'ventana', 'reloj', 'picacha', 'mouse', 'martillo', 'maletin', 'carpeta', 'cama', 'ataúd']\n"
     ]
    }
   ],
   "source": [
    "# Función para ordenar lista\n",
    "def ordenar_lista(objetos, orden=\"ascendente\"):\n",
    "    if orden == \"ascendente\":\n",
    "        return sorted(objetos)\n",
    "    elif orden == \"descendente\":\n",
    "        return sorted(objetos, reverse=True)\n",
    "\n",
    "# Ingresar los 10 objetos\n",
    "objetos = [input(f\"Ingrese el objeto {i+1}: \") for i in range(10)]\n",
    "\n",
    "# Mostrar menú\n",
    "opcion = input(\"¿Cómo quieres ordenar la lista? (ascendente/descendente): \").lower()\n",
    "objetos_ordenados = ordenar_lista(objetos, opcion)\n",
    "\n",
    "# Mostrar la lista ordenada\n",
    "print(\"Lista ordenada:\", objetos_ordenados)"
   ]
  },
  {
   "cell_type": "code",
   "execution_count": 7,
   "id": "e59a87a8-82be-44b1-b619-c760b4156512",
   "metadata": {},
   "outputs": [
    {
     "name": "stdin",
     "output_type": "stream",
     "text": [
      "Ingrese su nombre:  juan\n",
      "Ingrese su contraseña:  1234\n"
     ]
    },
    {
     "name": "stdout",
     "output_type": "stream",
     "text": [
      "Bienvenido Juan, eres un trabajador de MicroSecret.\n"
     ]
    }
   ],
   "source": [
    "# Listas de usuarios y contraseñas\n",
    "nombres = [\"juan\", \"ana\", \"pedro\", \"maria\"]\n",
    "contrasenas = [\"1234\", \"5678\", \"abcd\", \"efgh\"]\n",
    "\n",
    "# Función de verificación\n",
    "def verificar_usuario(nombre, contrasena):\n",
    "    if nombre in nombres and contrasena in contrasenas:\n",
    "        return f\"Bienvenido {nombre.capitalize()}, eres un trabajador de MicroSecret.\"\n",
    "    else:\n",
    "        return \"Acceso rechazado.\"\n",
    "\n",
    "# Ingresar nombre y contraseña\n",
    "nombre = input(\"Ingrese su nombre: \").lower()\n",
    "contrasena = input(\"Ingrese su contraseña: \")\n",
    "\n",
    "# Verificar acceso\n",
    "print(verificar_usuario(nombre, contrasena))"
   ]
  },
  {
   "cell_type": "code",
   "execution_count": 9,
   "id": "f8f3ca39-36b3-4fb3-addc-75c6575046ea",
   "metadata": {},
   "outputs": [
    {
     "name": "stdout",
     "output_type": "stream",
     "text": [
      "Puedes construir una ventana.\n"
     ]
    }
   ],
   "source": [
    "# Función para verificar materiales\n",
    "def verificar_materiales(materiales):\n",
    "    if \"clavos\" in materiales and \"madera\" in materiales:\n",
    "        return \"Puedes construir una ventana.\"\n",
    "    elif \"plancha metal\" in materiales and \"soldadura\" in materiales:\n",
    "        return \"Puedes construir una puerta metálica.\"\n",
    "    elif \"plancha de madera\" in materiales and \"madera\" in materiales:\n",
    "        return \"Puedes construir una puerta.\"\n",
    "    else:\n",
    "        return \"Debe comprar más materiales.\"\n",
    "\n",
    "# Lista de materiales\n",
    "materiales = [\"clavos\", \"madera\", \"plancha metal\"]\n",
    "print(verificar_materiales(materiales))"
   ]
  },
  {
   "cell_type": "code",
   "execution_count": 11,
   "id": "69e60d64-fb04-432f-893f-2e8029e4b798",
   "metadata": {},
   "outputs": [
    {
     "name": "stdin",
     "output_type": "stream",
     "text": [
      "¿Eres mujer o varón?  mujer\n",
      "Ingrese su edad:  18\n",
      "Ingrese su altura (en metros):  1.60\n",
      "Ingrese su peso (en kg):  57\n",
      "Ingrese los puntos obtenidos en la prueba:  66\n"
     ]
    },
    {
     "name": "stdout",
     "output_type": "stream",
     "text": [
      "Seleccionada para la Marina\n"
     ]
    }
   ],
   "source": [
    "# Función de selección\n",
    "def seleccion_marina(sexo, edad, altura, peso, prueba):\n",
    "    if edad >= 18:\n",
    "        if sexo == \"mujer\" and altura >= 1.60 and 55 <= peso <= 60 and prueba > 65:\n",
    "            return \"Seleccionada para la Marina\"\n",
    "        elif sexo == \"varon\" and altura >= 1.65 and 55 <= peso <= 60 and prueba > 65:\n",
    "            return \"Seleccionado para la Marina\"\n",
    "    return \"NO SELECCIONADO\"\n",
    "\n",
    "# Ingresar datos del postulante\n",
    "sexo = input(\"¿Eres mujer o varón? \").lower()\n",
    "edad = int(input(\"Ingrese su edad: \"))\n",
    "altura = float(input(\"Ingrese su altura (en metros): \"))\n",
    "peso = float(input(\"Ingrese su peso (en kg): \"))\n",
    "prueba = int(input(\"Ingrese los puntos obtenidos en la prueba: \"))\n",
    "\n",
    "# Verificar selección\n",
    "print(seleccion_marina(sexo, edad, altura, peso, prueba))"
   ]
  },
  {
   "cell_type": "code",
   "execution_count": 13,
   "id": "857d1c7c-cad1-443f-9e41-1593eccae17b",
   "metadata": {},
   "outputs": [
    {
     "name": "stdin",
     "output_type": "stream",
     "text": [
      "¿Eres mujer o varón?  varón\n",
      "Ingrese su edad:  18\n",
      "¿Aprobó el examen médico? (sí/no):  sí\n",
      "Ingrese los puntos en el examen de conocimiento:  88\n",
      "Ingrese los puntos en el examen de manejo:  96\n",
      "Ingrese el monto pagado (10 soles):  10\n"
     ]
    },
    {
     "name": "stdout",
     "output_type": "stream",
     "text": [
      "APTO TUC\n"
     ]
    }
   ],
   "source": [
    "# Función de verificación para TUC\n",
    "def verificar_tuc(sexo, edad, examen_medico, examen_conocimiento, examen_manejo, pago):\n",
    "    if edad >= 18 and examen_medico and examen_conocimiento > 80 and examen_manejo > 95 and pago == 10:\n",
    "        return \"APTO TUC\"\n",
    "    return \"NO APTO TUC\"\n",
    "\n",
    "# Ingresar datos\n",
    "sexo = input(\"¿Eres mujer o varón? \").lower()\n",
    "edad = int(input(\"Ingrese su edad: \"))\n",
    "examen_medico = input(\"¿Aprobó el examen médico? (sí/no): \").lower() == \"sí\"\n",
    "examen_conocimiento = int(input(\"Ingrese los puntos en el examen de conocimiento: \"))\n",
    "examen_manejo = int(input(\"Ingrese los puntos en el examen de manejo: \"))\n",
    "pago = float(input(\"Ingrese el monto pagado (10 soles): \"))\n",
    "\n",
    "# Verificar elegibilidad\n",
    "print(verificar_tuc(sexo, edad, examen_medico, examen_conocimiento, examen_manejo, pago))"
   ]
  },
  {
   "cell_type": "code",
   "execution_count": null,
   "id": "969931ba-1806-470a-a3fd-0b1e85c21238",
   "metadata": {},
   "outputs": [],
   "source": []
  }
 ],
 "metadata": {
  "kernelspec": {
   "display_name": "Python 3 (ipykernel)",
   "language": "python",
   "name": "python3"
  },
  "language_info": {
   "codemirror_mode": {
    "name": "ipython",
    "version": 3
   },
   "file_extension": ".py",
   "mimetype": "text/x-python",
   "name": "python",
   "nbconvert_exporter": "python",
   "pygments_lexer": "ipython3",
   "version": "3.12.4"
  }
 },
 "nbformat": 4,
 "nbformat_minor": 5
}
