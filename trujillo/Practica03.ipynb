{
 "cells": [
  {
   "cell_type": "code",
   "execution_count": 1,
   "id": "57c07afa-3778-4594-95eb-a8052a030f8a",
   "metadata": {},
   "outputs": [
    {
     "name": "stdout",
     "output_type": "stream",
     "text": [
      "[10, 20, 30, 40, 50, 60]\n"
     ]
    }
   ],
   "source": [
    "lista1 = [10,20,30]\n",
    "lista2 = [40,50,60]\n",
    "print(lista1 + lista2)"
   ]
  },
  {
   "cell_type": "code",
   "execution_count": 13,
   "id": "684445d1-f9b4-4a87-8192-42a1820cee7e",
   "metadata": {},
   "outputs": [
    {
     "name": "stdout",
     "output_type": "stream",
     "text": [
      "Mi auto es: Mazda\n",
      "Mi auto Toyota tiene 2 puertas\n"
     ]
    }
   ],
   "source": [
    "listaA = ['audi','toyota','mazda']\n",
    "puerta = [2,4]\n",
    "print(\"Mi auto es: \" + listaA[-1].title())\n",
    "print(f\"Mi auto {listaA[-2].title()} tiene {puerta[-2]} puertas\")\n"
   ]
  },
  {
   "cell_type": "code",
   "execution_count": 17,
   "id": "c6263456-355b-4d5f-8b7a-d37b3f01700c",
   "metadata": {},
   "outputs": [
    {
     "name": "stdout",
     "output_type": "stream",
     "text": [
      "7600\n",
      "7000\n",
      "-200\n"
     ]
    }
   ],
   "source": [
    "lista3 = [100,500,200,7000,-200,]\n",
    "print(sum(lista3)) #Sumando cada elemento de una lista con la función \"suma\"\n",
    "print(max(lista3)) #Máximos de los elemento de una lista con la función \"máximo\"\n",
    "print(min(lista3)) #Mínimo de los elemento de una lista con la función \"mínimo\""
   ]
  },
  {
   "cell_type": "code",
   "execution_count": 19,
   "id": "0d77af36-154f-4ff7-872d-abcf55aa4efe",
   "metadata": {},
   "outputs": [
    {
     "name": "stdout",
     "output_type": "stream",
     "text": [
      "[0, 1, 2, 3, 4, 5, 6]\n",
      "[1, 2, 3, 4, 5, 6, 7, 8, 9]\n",
      "[-10, -9, -8, -7, -6, -5, -4, -3, -2, -1, 0, 1]\n",
      "[200, 180, 160, 140, 120]\n",
      "[]\n"
     ]
    }
   ],
   "source": [
    "lista1 = list(range(7)) #lista de 0 a 6 NO CONSIDERA 7\n",
    "lista2 = list(range(1,10)) #lista de de 1 a 9 NO CONSIDERA 10\n",
    "lista3 = list(range(-10,2)) #lista de 10 a 1 NO CONSIDERA 2\n",
    "lista4 = list(range(200,100,-20)) #lista de 200 a 100 restando 20\n",
    "lista5 = list(range(200,100,20)) #lista vacia rango inicia en 200 avanza sumando\n",
    "print(lista1)\n",
    "print(lista2)\n",
    "print(lista3)\n",
    "print(lista4)\n",
    "print(lista5)"
   ]
  },
  {
   "cell_type": "code",
   "execution_count": 21,
   "id": "4f10a4e6-e811-44d5-8d95-68875deec456",
   "metadata": {},
   "outputs": [
    {
     "ename": "IndexError",
     "evalue": "list index out of range",
     "output_type": "error",
     "traceback": [
      "\u001b[0;31m---------------------------------------------------------------------------\u001b[0m",
      "\u001b[0;31mIndexError\u001b[0m                                Traceback (most recent call last)",
      "Cell \u001b[0;32mIn[21], line 2\u001b[0m\n\u001b[1;32m      1\u001b[0m autos \u001b[38;5;241m=\u001b[39m [\u001b[38;5;124m'\u001b[39m\u001b[38;5;124mmazda\u001b[39m\u001b[38;5;124m'\u001b[39m, \u001b[38;5;124m'\u001b[39m\u001b[38;5;124maudi\u001b[39m\u001b[38;5;124m'\u001b[39m, \u001b[38;5;124m'\u001b[39m\u001b[38;5;124mtoyota\u001b[39m\u001b[38;5;124m'\u001b[39m, \u001b[38;5;124m'\u001b[39m\u001b[38;5;124msubaru\u001b[39m\u001b[38;5;124m'\u001b[39m, \u001b[38;5;124m'\u001b[39m\u001b[38;5;124mbmw\u001b[39m\u001b[38;5;124m'\u001b[39m, \u001b[38;5;124m'\u001b[39m\u001b[38;5;124mlamborghini\u001b[39m\u001b[38;5;124m'\u001b[39m]\n\u001b[0;32m----> 2\u001b[0m \u001b[38;5;28mprint\u001b[39m(autos[\u001b[38;5;241m6\u001b[39m]\u001b[38;5;241m.\u001b[39mupper())\n",
      "\u001b[0;31mIndexError\u001b[0m: list index out of range"
     ]
    }
   ],
   "source": [
    "autos = ['mazda', 'audi', 'toyota', 'subaru', 'bmw', 'lamborghini']\n",
    "print(autos[6].upper())"
   ]
  },
  {
   "cell_type": "code",
   "execution_count": 23,
   "id": "b91fba2a-6de3-4dbe-aa7b-bde08e9d5958",
   "metadata": {},
   "outputs": [
    {
     "name": "stdout",
     "output_type": "stream",
     "text": [
      "BMW\n"
     ]
    }
   ],
   "source": [
    "autos = ['mazda', 'audi', 'toyota', 'subaru', 'bmw', 'lamborghini']\n",
    "print(autos[4].upper())\n"
   ]
  },
  {
   "cell_type": "code",
   "execution_count": 33,
   "id": "41fa884c-2439-4c2b-87b5-f8e303a37fda",
   "metadata": {},
   "outputs": [
    {
     "name": "stdin",
     "output_type": "stream",
     "text": [
      "Ingrese un numero entero, positivo o negativo:  -8\n"
     ]
    },
    {
     "name": "stdout",
     "output_type": "stream",
     "text": [
      "\n",
      "El numero: -8\n",
      "Es un numero: negativo\n"
     ]
    }
   ],
   "source": [
    "# Método 1: Utilizando if-elif-else\n",
    "x = int(input(\"Ingrese un numero entero, positivo o negativo: \"))\n",
    "\n",
    "# Verificación de número positivo, negativo o cero\n",
    "if x > 0:\n",
    "    y = \"positivo\"\n",
    "elif x < 0:\n",
    "    y = \"negativo\"\n",
    "else:\n",
    "    y = \"cero\"\n",
    "\n",
    "# Mostrar el resultado\n",
    "print(\"\\nEl numero: {}\".format(x))\n",
    "print(\"Es un numero: {}\".format(y))"
   ]
  },
  {
   "cell_type": "code",
   "execution_count": 47,
   "id": "cd27fa3b-83b1-458d-9c36-6b9942f97b58",
   "metadata": {},
   "outputs": [
    {
     "name": "stdin",
     "output_type": "stream",
     "text": [
      "Ingrese un numero entero, positivo o negativo:  85\n"
     ]
    },
    {
     "name": "stdout",
     "output_type": "stream",
     "text": [
      "positivo\n",
      "\n",
      "El numero: 85\n",
      "Es un numero: positivo\n"
     ]
    }
   ],
   "source": [
    "# Método 2: Utilizando elif\n",
    "\n",
    "# ****** FUNCIÓN detecta POSITIVOS NEGATIVOS ******\n",
    "def det(xx):\n",
    "    if xx < 0:\n",
    "        p = 'negativo'\n",
    "    elif xx > 0:\n",
    "        p = 'positivo'\n",
    "    else:\n",
    "        p = 'cero'\n",
    "    \n",
    "    print(p)  # Esto imprimirá el resultado\n",
    "    return p  # Devolvemos el valor de p\n",
    "\n",
    "### Ingresamos NUMERO ******************\n",
    "num = int(input(\"Ingrese un numero entero, positivo o negativo: \"))  # Ingresar número\n",
    "\n",
    "### Llamamos A LA FUNCIÓN *****************\n",
    "resp = det(num)  # Asignamos el valor devuelto por la función a 'resp'\n",
    "\n",
    "# Imprimo RESULTADO\n",
    "print(\"\\nEl numero: {}\".format(num))\n",
    "print(\"Es un numero: {}\".format(resp))"
   ]
  },
  {
   "cell_type": "code",
   "execution_count": 51,
   "id": "618ff9c9-eadd-4671-b642-707722f3e0e4",
   "metadata": {},
   "outputs": [
    {
     "name": "stdin",
     "output_type": "stream",
     "text": [
      "Ingrese el radio de un círculo:  5\n"
     ]
    },
    {
     "name": "stdout",
     "output_type": "stream",
     "text": [
      "Seleccione una opción: \n",
      "a) Calcular el diámetro.\n",
      "b) Calcular el perímetro.\n",
      "c) Calcular el área.\n"
     ]
    },
    {
     "name": "stdin",
     "output_type": "stream",
     "text": [
      "Digita a, b, o c y presiona enter:  c\n"
     ]
    },
    {
     "name": "stdout",
     "output_type": "stream",
     "text": [
      "\n",
      "El área del Círculo es: 78.53981633974483\n"
     ]
    }
   ],
   "source": [
    "from math import pi\n",
    "\n",
    "# Ingresar radio del círculo\n",
    "radio = float(input(\"Ingrese el radio de un círculo: \"))\n",
    "\n",
    "# Menú\n",
    "print(\"Seleccione una opción: \")\n",
    "print(\"a) Calcular el diámetro.\")\n",
    "print(\"b) Calcular el perímetro.\")\n",
    "print(\"c) Calcular el área.\")\n",
    "\n",
    "# Selección de opción\n",
    "opcion = input(\"Digita a, b, o c y presiona enter: \")\n",
    "\n",
    "# Condicionales anidados (Mejorado)\n",
    "if opcion == \"a\":\n",
    "    diametro = 2 * radio\n",
    "    print(\"\\nEl diámetro del Círculo es: {0}\".format(diametro))\n",
    "elif opcion == \"b\":\n",
    "    perimetro = 2 * pi * radio\n",
    "    print(\"\\nEl perímetro del Círculo es: {0}\".format(perimetro))\n",
    "elif opcion == \"c\":\n",
    "    area = pi * radio ** 2\n",
    "    print(\"\\nEl área del Círculo es: {0}\".format(area))\n",
    "else:\n",
    "    print(\"\\nSolo hay tres opciones: a, b, c.\")\n",
    "    print(f'Tu has tecleado \"{opcion}\".')"
   ]
  },
  {
   "cell_type": "code",
   "execution_count": 53,
   "id": "52ae5f20-705f-4542-896f-c9c97bf0d12b",
   "metadata": {},
   "outputs": [
    {
     "name": "stdin",
     "output_type": "stream",
     "text": [
      "Ingrese el radio de un círculo:  5\n"
     ]
    },
    {
     "name": "stdout",
     "output_type": "stream",
     "text": [
      "Seleccione una opción: \n",
      "a) Calcular el diámetro.\n",
      "b) Calcular el perímetro.\n",
      "c) Calcular el área.\n"
     ]
    },
    {
     "name": "stdin",
     "output_type": "stream",
     "text": [
      "Digita a, b, o c y presiona enter:  c\n"
     ]
    },
    {
     "name": "stdout",
     "output_type": "stream",
     "text": [
      "El área del Círculo es: 78.53981633974483\n"
     ]
    }
   ],
   "source": [
    "from math import pi\n",
    "\n",
    "# Ingresar radio del círculo\n",
    "radio = float(input(\"Ingrese el radio de un círculo: \"))\n",
    "\n",
    "# Menú de opciones\n",
    "print(\"Seleccione una opción: \")\n",
    "print(\"a) Calcular el diámetro.\")\n",
    "print(\"b) Calcular el perímetro.\")\n",
    "print(\"c) Calcular el área.\")\n",
    "\n",
    "# Leer la opción seleccionada\n",
    "opcion = input(\"Digita a, b, o c y presiona enter: \")\n",
    "\n",
    "# Condicionales con elif\n",
    "if opcion == \"a\":\n",
    "    diametro = 2 * radio\n",
    "    print(\"El diámetro del Círculo es: {0}\".format(diametro))\n",
    "elif opcion == \"b\":\n",
    "    perimetro = 2 * pi * radio\n",
    "    print(\"El perímetro del Círculo es: {0}\".format(perimetro))\n",
    "elif opcion == \"c\":\n",
    "    area = pi * radio ** 2\n",
    "    print(\"El área del Círculo es: {0}\".format(area))\n",
    "else:\n",
    "    print(\"Solo hay tres opciones: a, b, c.\")\n",
    "    print(f'Tu has tecleado \"{opcion}\".')"
   ]
  },
  {
   "cell_type": "code",
   "execution_count": 59,
   "id": "45b6df81-b9e7-415c-a4f7-560fc9b99f67",
   "metadata": {},
   "outputs": [
    {
     "name": "stdout",
     "output_type": "stream",
     "text": [
      "Hoy comemos rica Parrilla!!!!\n"
     ]
    }
   ],
   "source": [
    "alimento = ['arroz', 'papas', 'camotes', 'leche', 'carne', 'cebolla', 'tomate', 'lechuga']\n",
    "\n",
    "if 'carne' in alimento:  # Condicional Si \"carne\" está en la lista de alimentos\n",
    "    print('Hoy comemos rica Parrilla!!!!')\n",
    "else:\n",
    "    print('Hoy comemos Verduras')\n"
   ]
  },
  {
   "cell_type": "code",
   "execution_count": 61,
   "id": "04554e0c-2bfa-4cbd-a7a6-c2be5d6fa962",
   "metadata": {},
   "outputs": [
    {
     "name": "stdin",
     "output_type": "stream",
     "text": [
      "Ingresa la fruta que deseas comer hoy :  mandarina\n"
     ]
    },
    {
     "name": "stdout",
     "output_type": "stream",
     "text": [
      "\n",
      "Si tenemos MANDARINA !!!, te prepararemos un Jugo\n",
      "\n",
      "Gracias por tu Preferencia !!!, Vuelve Pronto\n"
     ]
    }
   ],
   "source": [
    "# ******* FUNCION JUGERÍA ****************************************************\n",
    "def preparar(fruit):\n",
    "    if fruit in fruta:  # Verificamos si la fruta está en la lista\n",
    "        print(f'\\nSi tenemos {fruit.upper()} !!!, te prepararemos un Jugo')\n",
    "    else:\n",
    "        print(f'\\nHoy no tenemos {fruit.upper()}, pero regresa Mañana')\n",
    "\n",
    "# ******* Lista de Frutas ***************************************************\n",
    "fruta = ['platano', 'manzana', 'pera', 'naranja', 'mandarina', 'uva']\n",
    "\n",
    "antojo = input('Ingresa la fruta que deseas comer hoy : ')  # Pedimos la fruta al usuario\n",
    "preparar(antojo)  # Llamamos a la función para verificar si tenemos la fruta\n",
    "print('\\nGracias por tu Preferencia !!!, Vuelve Pronto')\n"
   ]
  },
  {
   "cell_type": "code",
   "execution_count": 63,
   "id": "db643562-4c02-4422-a729-9be11ccc9d46",
   "metadata": {},
   "outputs": [
    {
     "name": "stdin",
     "output_type": "stream",
     "text": [
      "Ingresa tu Nombre:  Max\n",
      "Ingrese su edad:  17\n"
     ]
    },
    {
     "name": "stdout",
     "output_type": "stream",
     "text": [
      "\n",
      "MAX es Menor de Edad con 17 años de edad\n"
     ]
    }
   ],
   "source": [
    "#************* FUNCIÓN que detecte la mayoría de edad ************\n",
    "def mayoria(nom, xx):\n",
    "    if xx >= 18:\n",
    "        print(f'\\n{nom.upper()} es Mayor de Edad con {xx} años de edad')\n",
    "    else:\n",
    "        print(f'\\n{nom.upper()} es Menor de Edad con {xx} años de edad')\n",
    "\n",
    "#************** INGRESA DATOS ************************************\n",
    "nombre = input('Ingresa tu Nombre: ')\n",
    "edad = int(input('Ingrese su edad: '))\n",
    "\n",
    "mayoria(nombre, edad)  # Llamamos a la función para comprobar si es mayor o menor de edad\n"
   ]
  },
  {
   "cell_type": "code",
   "execution_count": null,
   "id": "b9a15091-524c-484f-bc66-4d897b0e5587",
   "metadata": {},
   "outputs": [],
   "source": []
  }
 ],
 "metadata": {
  "kernelspec": {
   "display_name": "Python 3 (ipykernel)",
   "language": "python",
   "name": "python3"
  },
  "language_info": {
   "codemirror_mode": {
    "name": "ipython",
    "version": 3
   },
   "file_extension": ".py",
   "mimetype": "text/x-python",
   "name": "python",
   "nbconvert_exporter": "python",
   "pygments_lexer": "ipython3",
   "version": "3.12.4"
  }
 },
 "nbformat": 4,
 "nbformat_minor": 5
}
